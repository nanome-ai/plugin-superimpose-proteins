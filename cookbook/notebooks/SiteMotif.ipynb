{
 "cells": [
  {
   "cell_type": "code",
   "execution_count": null,
   "id": "c1e18dc8-6a76-4f6d-bd2c-3e2a78f79d49",
   "metadata": {},
   "outputs": [],
   "source": [
    "import logging\n",
    "import os\n",
    "import sys\n",
    "\n",
    "from cookbook.interface import PluginInstanceRedisInterface\n",
    "from rmsd_v2.fpocket_client import FPocketClient\n",
    "\n",
    "\n",
    "logging.basicConfig()\n",
    "logger = logging.getLogger(__name__)\n",
    "\n",
    "# Set up redis credentials\n",
    "redis_host = 'redis'\n",
    "redis_port = 6379\n",
    "redis_password = ''\n",
    "redis_channel = os.environ.get(\"REDIS_CHANNEL\")\n",
    "plugin_instance = PluginInstanceRedisInterface(redis_host, redis_port, redis_password, redis_channel)\n",
    "\n",
    "# Increase the recursion limit in order to properly serialize Complexes\n",
    "recursion_limit = 100000\n",
    "sys.setrecursionlimit(recursion_limit)\n",
    "\n",
    "starting_dir = '/app/cookbook'\n",
    "os.chdir(starting_dir)\n",
    "site_motif_path = 'site_motif/MulitpleSiteAlignment'\n",
    "data_folder = f'{site_motif_path}/ATP'"
   ]
  },
  {
   "cell_type": "code",
   "execution_count": null,
   "id": "340b77dc-a4ed-445d-88e0-b3b7246d0cbf",
   "metadata": {},
   "outputs": [],
   "source": [
    "# Generate Pairs List\n",
    "\n",
    "import os\n",
    "import subprocess\n",
    "\n",
    "exe_path = f'{site_motif_path}/Pairs.py'\n",
    "pairs_file = f'{os.getcwd()}/PairList.txt'\n",
    "\n",
    "cmd = f'conda run -n py27 python {exe_path} {data_folder}'\n",
    "print(cmd)\n",
    "subprocess.run(cmd.split())\n",
    "# open(pairs_file, 'r').read()\n"
   ]
  },
  {
   "cell_type": "code",
   "execution_count": null,
   "id": "d5ed6c4e-66c0-4818-bde9-5c6c42bc712c",
   "metadata": {},
   "outputs": [],
   "source": [
    "# Calculate PDBSizes\n",
    "\n",
    "import os\n",
    "import subprocess\n",
    "\n",
    "executable = f'{site_motif_path}/PDBSize.py'\n",
    "site_size_file = f'{os.getcwd()}/PDBSize.txt'\n",
    "\n",
    "cmd = f'conda run -n py27 python {executable} {data_folder}'\n",
    "print(cmd)\n",
    "subprocess.run(cmd.split())\n"
   ]
  },
  {
   "cell_type": "code",
   "execution_count": null,
   "id": "338e42a1-d224-447d-b839-940676977254",
   "metadata": {},
   "outputs": [],
   "source": [
    "# Generate align_output.txt\n",
    "\n",
    "import os\n",
    "import subprocess\n",
    "\n",
    "executable = f'{site_motif_path}/pocket_matrix_mpi7.py'\n",
    "align_output_file = 'align_output.txt'\n",
    "print(cmd)\n",
    "\n",
    "# with tempfile.TemporaryDirectory() as tmpdir:\n",
    "cmd = f'conda run -n py27 python {executable} {data_folder} {pairs_file} {site_size_file}'\n",
    "# os.chdir(tmpdir)\n",
    "subprocess.run(cmd.split())\n",
    "os.listdir()\n",
    "os.chdir(starting_dir)\n",
    "# open(align_output_file, 'r').read()\n",
    "\n"
   ]
  },
  {
   "cell_type": "code",
   "execution_count": null,
   "id": "584d92b3-f9a1-495e-b5d1-42d29f649e9e",
   "metadata": {},
   "outputs": [],
   "source": []
  }
 ],
 "metadata": {
  "kernelspec": {
   "display_name": "Python 3 (ipykernel)",
   "language": "python",
   "name": "python3"
  },
  "language_info": {
   "codemirror_mode": {
    "name": "ipython",
    "version": 3
   },
   "file_extension": ".py",
   "mimetype": "text/x-python",
   "name": "python",
   "nbconvert_exporter": "python",
   "pygments_lexer": "ipython3",
   "version": "3.9.7"
  }
 },
 "nbformat": 4,
 "nbformat_minor": 5
}
