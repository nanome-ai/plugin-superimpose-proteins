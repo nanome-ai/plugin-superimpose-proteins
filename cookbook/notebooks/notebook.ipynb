{
 "cells": [
  {
   "cell_type": "code",
   "execution_count": 18,
   "metadata": {},
   "outputs": [
    {
     "name": "stdout",
     "output_type": "stream",
     "text": [
      "Sending request_complex_list Request to Redis Channel 78bdbce1-5f84-44ec-ae08-79f2768351b5\n",
      "Response received on channel 93c57b51-db23-4569-b88c-d7a027c8aadd\n"
     ]
    }
   ],
   "source": [
    "from cookbook.interface import PluginInstanceRedisInterface\n",
    "import os\n",
    "import sys\n",
    "\n",
    "import logging\n",
    "\n",
    "logging.basicConfig()\n",
    "\n",
    "# Set up redis credentials\n",
    "redis_host = 'redis'\n",
    "redis_port = 6379\n",
    "redis_password = ''\n",
    "redis_channel = os.environ.get(\"REDIS_CHANNEL\")\n",
    "\n",
    "# Increase the recursion limit in order to properly serialize Complexes\n",
    "recursion_limit = 10000\n",
    "sys.setrecursionlimit(recursion_limit)\n",
    "\n",
    "plugin_instance = PluginInstanceRedisInterface(redis_host, redis_port, redis_password, redis_channel)\n",
    "comp_list = plugin_instance.request_complex_list()\n"
   ]
  },
  {
   "cell_type": "code",
   "execution_count": 19,
   "metadata": {},
   "outputs": [
    {
     "ename": "FileNotFoundError",
     "evalue": "[Errno 2] No such file or directory: '/tmp/tmpl01ooqj5/tmpoxj9e3bb_out/pockets'",
     "output_type": "error",
     "traceback": [
      "\u001b[0;31m---------------------------------------------------------------------------\u001b[0m",
      "\u001b[0;31mFileNotFoundError\u001b[0m                         Traceback (most recent call last)",
      "Input \u001b[0;32mIn [19]\u001b[0m, in \u001b[0;36m<cell line: 8>\u001b[0;34m()\u001b[0m\n\u001b[1;32m      5\u001b[0m fpocket_client \u001b[38;5;241m=\u001b[39m FPocketClient()\n\u001b[1;32m      7\u001b[0m comp \u001b[38;5;241m=\u001b[39m comp_list[\u001b[38;5;241m0\u001b[39m]\n\u001b[0;32m----> 8\u001b[0m \u001b[43mfpocket_client\u001b[49m\u001b[38;5;241;43m.\u001b[39;49m\u001b[43mget_pockets\u001b[49m\u001b[43m(\u001b[49m\u001b[43mcomp\u001b[49m\u001b[43m)\u001b[49m\n",
      "File \u001b[0;32m/usr/local/lib/python3.10/site-packages/rmsd_v2/fpocket_client.py:26\u001b[0m, in \u001b[0;36mFPocketClient.get_pockets\u001b[0;34m(self, comp)\u001b[0m\n\u001b[1;32m     23\u001b[0m pocket_folder \u001b[38;5;241m=\u001b[39m os\u001b[38;5;241m.\u001b[39mpath\u001b[38;5;241m.\u001b[39mjoin(output_folder, \u001b[38;5;124m'\u001b[39m\u001b[38;5;124mpockets\u001b[39m\u001b[38;5;124m'\u001b[39m)\n\u001b[1;32m     24\u001b[0m \u001b[38;5;66;03m# Every pocket returns a .pdb of atoms and a .pqr of vertices\u001b[39;00m\n\u001b[1;32m     25\u001b[0m \u001b[38;5;66;03m# Get atoms that are part of pocket\u001b[39;00m\n\u001b[0;32m---> 26\u001b[0m output_pdb_files \u001b[38;5;241m=\u001b[39m [fi \u001b[38;5;28;01mfor\u001b[39;00m fi \u001b[38;5;129;01min\u001b[39;00m \u001b[43mos\u001b[49m\u001b[38;5;241;43m.\u001b[39;49m\u001b[43mlistdir\u001b[49m\u001b[43m(\u001b[49m\u001b[43mpocket_folder\u001b[49m\u001b[43m)\u001b[49m \u001b[38;5;28;01mif\u001b[39;00m fi\u001b[38;5;241m.\u001b[39mendswith(\u001b[38;5;124m'\u001b[39m\u001b[38;5;124m.pdb\u001b[39m\u001b[38;5;124m'\u001b[39m)]\n\u001b[1;32m     27\u001b[0m list_of_pocket_serials \u001b[38;5;241m=\u001b[39m []\n\u001b[1;32m     28\u001b[0m \u001b[38;5;28;01mfor\u001b[39;00m i \u001b[38;5;129;01min\u001b[39;00m \u001b[38;5;28mrange\u001b[39m(\u001b[38;5;241m1\u001b[39m, \u001b[38;5;28mlen\u001b[39m(output_pdb_files)):\n",
      "\u001b[0;31mFileNotFoundError\u001b[0m: [Errno 2] No such file or directory: '/tmp/tmpl01ooqj5/tmpoxj9e3bb_out/pockets'"
     ]
    }
   ],
   "source": [
    "from rmsd_v2.RMSDV2 import RMSDV2\n",
    "from rmsd_v2.fpocket_client import FPocketClient\n",
    "\n",
    "rmsd_v2 = RMSDV2()\n",
    "fpocket_client = FPocketClient()\n",
    "\n",
    "comp = comp_list[0]\n",
    "fpocket_client.get_pockets(comp)\n",
    "\n",
    "\n",
    "\n"
   ]
  },
  {
   "cell_type": "code",
   "execution_count": 10,
   "metadata": {},
   "outputs": [
    {
     "name": "stdout",
     "output_type": "stream",
     "text": [
      "Sending request_complex_list Request to Redis Channel 78bdbce1-5f84-44ec-ae08-79f2768351b5\n"
     ]
    }
   ],
   "source": []
  },
  {
   "cell_type": "code",
   "execution_count": null,
   "metadata": {},
   "outputs": [],
   "source": []
  }
 ],
 "metadata": {
  "kernelspec": {
   "display_name": "Python 3 (ipykernel)",
   "language": "python",
   "name": "python3"
  },
  "language_info": {
   "codemirror_mode": {
    "name": "ipython",
    "version": 3
   },
   "file_extension": ".py",
   "mimetype": "text/x-python",
   "name": "python",
   "nbconvert_exporter": "python",
   "pygments_lexer": "ipython3",
   "version": "3.10.4"
  }
 },
 "nbformat": 4,
 "nbformat_minor": 4
}
