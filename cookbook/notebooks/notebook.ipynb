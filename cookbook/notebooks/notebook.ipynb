{
 "cells": [
  {
   "cell_type": "code",
   "execution_count": null,
   "metadata": {},
   "outputs": [],
   "source": [
    "from cookbook.interface import PluginInstanceRedisInterface\n",
    "import os\n",
    "import sys\n",
    "\n",
    "import logging\n",
    "\n",
    "logging.basicConfig()\n",
    "\n",
    "# Set up redis credentials\n",
    "redis_host = 'redis'\n",
    "redis_port = 6379\n",
    "redis_password = ''\n",
    "redis_channel = os.environ.get(\"REDIS_CHANNEL\")\n",
    "\n",
    "# Increase the recursion limit in order to properly serialize Complexes\n",
    "recursion_limit = 10000\n",
    "sys.setrecursionlimit(recursion_limit)\n",
    "\n",
    "plugin_instance = PluginInstanceRedisInterface(redis_host, redis_port, redis_password, redis_channel)\n",
    "comp_list = plugin_instance.request_complex_list()\n"
   ]
  },
  {
   "cell_type": "code",
   "execution_count": null,
   "metadata": {},
   "outputs": [],
   "source": [
    "# from rmsd_v2.RMSDV2 import RMSDV2\n",
    "from rmsd_v2.fpocket_client import FPocketClient\n",
    "\n",
    "# redis_host, redis_port, redis_password, redis_channel\n",
    "# rmsd_v2 = RMSDV2Redis()\n",
    "ws = plugin_instance.request_workspace()\n",
    "comp = ws.complexes[0]\n",
    "\n",
    "fpocket_client = FPocketClient()\n",
    "pockets = fpocket_client.get_pockets(comp)\n"
   ]
  },
  {
   "cell_type": "code",
   "execution_count": null,
   "metadata": {},
   "outputs": [],
   "source": []
  }
 ],
 "metadata": {
  "kernelspec": {
   "display_name": "Python 3 (ipykernel)",
   "language": "python",
   "name": "python3"
  },
  "language_info": {
   "codemirror_mode": {
    "name": "ipython",
    "version": 3
   },
   "file_extension": ".py",
   "mimetype": "text/x-python",
   "name": "python",
   "nbconvert_exporter": "python",
   "pygments_lexer": "ipython3",
   "version": "3.10.4"
  }
 },
 "nbformat": 4,
 "nbformat_minor": 4
}
