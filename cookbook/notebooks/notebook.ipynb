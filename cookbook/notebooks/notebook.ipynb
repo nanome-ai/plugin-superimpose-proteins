{
 "cells": [
  {
   "cell_type": "code",
   "execution_count": 2,
   "metadata": {},
   "outputs": [
    {
     "name": "stdout",
     "output_type": "stream",
     "text": [
      "Hello\n"
     ]
    }
   ],
   "source": [
    "from cookbook.interface import PluginInstanceRedisInterface\n",
    "import os\n",
    "import sys\n",
    "\n",
    "# Set up redis credentials\n",
    "redis_host = 'redis'\n",
    "redis_port = 6379\n",
    "redis_password = ''\n",
    "\n",
    "# When your PluginService is running, you can get your channel value from the Logs, or from the query parameter in your open browser.\n",
    "# Update this value to match that, so that your commands will run against your live workspace.\n",
    "redis_channel = os.environ.get(\"REDIS_CHANNEL\")\n",
    "\n",
    "# Increase the recursion limit in order to properly serialize Complexes\n",
    "# recursion_limit = 10000\n",
    "# sys.setrecursionlimit(recursion_limit)\n",
    "\n",
    "plugin_instance = PluginInstanceRedisInterface(redis_host, redis_port, redis_password, redis_channel)\n",
    "print('Hello')"
   ]
  },
  {
   "cell_type": "code",
   "execution_count": 1,
   "metadata": {},
   "outputs": [
    {
     "ename": "NameError",
     "evalue": "name 'PluginInstanceRedisInterface' is not defined",
     "output_type": "error",
     "traceback": [
      "\u001b[0;31m---------------------------------------------------------------------------\u001b[0m",
      "\u001b[0;31mNameError\u001b[0m                                 Traceback (most recent call last)",
      "Input \u001b[0;32mIn [1]\u001b[0m, in \u001b[0;36m<cell line: 3>\u001b[0;34m()\u001b[0m\n\u001b[1;32m      1\u001b[0m \u001b[38;5;28;01mfrom\u001b[39;00m \u001b[38;5;21;01mrmsd_v2\u001b[39;00m\u001b[38;5;21;01m.\u001b[39;00m\u001b[38;5;21;01mRMSDV2\u001b[39;00m \u001b[38;5;28;01mimport\u001b[39;00m RMSDV2\n\u001b[0;32m----> 3\u001b[0m \u001b[38;5;28;01mclass\u001b[39;00m \u001b[38;5;21;01mRMSDV2RedisInstance\u001b[39;00m(\u001b[43mPluginInstanceRedisInterface\u001b[49m):\n\u001b[1;32m      4\u001b[0m     \u001b[38;5;28;01mpass\u001b[39;00m\n",
      "\u001b[0;31mNameError\u001b[0m: name 'PluginInstanceRedisInterface' is not defined"
     ]
    }
   ],
   "source": [
    "from rmsd_v2.RMSDV2 import RMSDV2\n",
    "\n",
    "class RMSDV2RedisInstance(PluginInstanceRedisInterface):\n",
    "    pass"
   ]
  },
  {
   "cell_type": "code",
   "execution_count": 11,
   "metadata": {},
   "outputs": [],
   "source": [
    "plugin_instance = RMSDV2()"
   ]
  },
  {
   "cell_type": "code",
   "execution_count": 3,
   "metadata": {},
   "outputs": [
    {
     "name": "stdout",
     "output_type": "stream",
     "text": [
      "Sending request_complex_list Request to Redis Channel 78bdbce1-5f84-44ec-ae08-79f2768351b5\n"
     ]
    },
    {
     "data": {
      "text/plain": [
       "[<nanome.api.structure.complex.Complex at 0x7fcd481977c0>,\n",
       " <nanome.api.structure.complex.Complex at 0x7fcd480a5960>,\n",
       " <nanome.api.structure.complex.Complex at 0x7fcd480a5bd0>,\n",
       " <nanome.api.structure.complex.Complex at 0x7fcd480a5e40>,\n",
       " <nanome.api.structure.complex.Complex at 0x7fcd480a60b0>,\n",
       " <nanome.api.structure.complex.Complex at 0x7fcd480a6320>]"
      ]
     },
     "execution_count": 3,
     "metadata": {},
     "output_type": "execute_result"
    }
   ],
   "source": [
    "plugin_instance.request_complex_list()"
   ]
  },
  {
   "cell_type": "code",
   "execution_count": null,
   "metadata": {},
   "outputs": [],
   "source": []
  }
 ],
 "metadata": {
  "kernelspec": {
   "display_name": "Python 3 (ipykernel)",
   "language": "python",
   "name": "python3"
  },
  "language_info": {
   "codemirror_mode": {
    "name": "ipython",
    "version": 3
   },
   "file_extension": ".py",
   "mimetype": "text/x-python",
   "name": "python",
   "nbconvert_exporter": "python",
   "pygments_lexer": "ipython3",
   "version": "3.10.4"
  }
 },
 "nbformat": 4,
 "nbformat_minor": 4
}
