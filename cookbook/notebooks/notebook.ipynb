{
 "cells": [
  {
   "cell_type": "code",
   "execution_count": 1,
   "metadata": {},
   "outputs": [],
   "source": [
    "import logging\n",
    "import os\n",
    "import sys\n",
    "\n",
    "from cookbook.interface import PluginInstanceRedisInterface\n",
    "from rmsd_v2.fpocket_client import FPocketClient\n",
    "\n",
    "\n",
    "logging.basicConfig()\n",
    "logger = logging.getLogger(__name__)\n",
    "\n",
    "# Set up redis credentials\n",
    "redis_host = 'redis'\n",
    "redis_port = 6379\n",
    "redis_password = ''\n",
    "redis_channel = os.environ.get(\"REDIS_CHANNEL\")\n",
    "\n",
    "# Increase the recursion limit in order to properly serialize Complexes\n",
    "recursion_limit = 100000\n",
    "sys.setrecursionlimit(recursion_limit)\n",
    "\n",
    "plugin_instance = PluginInstanceRedisInterface(redis_host, redis_port, redis_password, redis_channel)\n",
    "fpocket_client = FPocketClient()"
   ]
  },
  {
   "cell_type": "code",
   "execution_count": null,
   "metadata": {
    "tags": []
   },
   "outputs": [],
   "source": [
    "# Load in example structures\n",
    "\n",
    "from nanome.api.structure import Complex\n",
    "from nanome.util import Color\n",
    "# Load Test Molecules\n",
    "examples_folder = os.path.join(os.getcwd(), 'examples')\n",
    "pdb_6nzt = os.path.join(examples_folder, '6nzt.pdb')\n",
    "pdb_6nzv = os.path.join(examples_folder, '6nzv.pdb')\n",
    "\n",
    "comp_1 = Complex.io.from_pdb(path=pdb_6nzt)\n",
    "comp_1.name = \"6NZT\"\n",
    "comp_2 = Complex.io.from_pdb(path=pdb_6nzv)\n",
    "comp_2.name = \"6NZV\"\n",
    "comp_list = [comp_1, comp_2]\n",
    "moving_comp = next(iter([comp in comp_list if comp.name == '6NZT']))\n",
    "# fixed_comp = next(comp in comp_list if comp.name == '6NZV')\n",
    "\n",
    "# plugin_instance.update_structures_deep(comp_list)\n"
   ]
  },
  {
   "cell_type": "code",
   "execution_count": 70,
   "metadata": {},
   "outputs": [
    {
     "name": "stdout",
     "output_type": "stream",
     "text": [
      "Sending request_workspace Request to Redis Channel 78bdbce1-5f84-44ec-ae08-79f2768351b5\n",
      "Response received on channel d637c85c-277b-439d-80d6-941fa541e73a\n"
     ]
    }
   ],
   "source": [
    "ws = plugin_instance.request_workspace()\n",
    "comp_list = ws.complexes\n",
    "\n",
    "moving_comp = next(comp for comp in comp_list if comp.name == '6NZT')\n",
    "fixed_comp = next(comp for comp in comp_list if comp.name == '6NZV')"
   ]
  },
  {
   "cell_type": "code",
   "execution_count": 71,
   "metadata": {
    "scrolled": true
   },
   "outputs": [
    {
     "name": "stdout",
     "output_type": "stream",
     "text": [
      "84 Atoms in binding_site\n",
      "84\n",
      "689 Atoms in extracted binding_site\n",
      "0 selected Atoms in extracted binding_site\n",
      "Sending update_structures_deep Request to Redis Channel 78bdbce1-5f84-44ec-ae08-79f2768351b5\n",
      "Response received on channel 8c128198-f630-4ad4-851f-79357f600a7d\n",
      "Sending update_structures_deep Request to Redis Channel 78bdbce1-5f84-44ec-ae08-79f2768351b5\n",
      "Response received on channel 68c2ab14-1908-4206-ab09-ddc4bd967362\n"
     ]
    }
   ],
   "source": [
    "# Extract the binding pocket surrounding the ligand.\n",
    "import copy\n",
    "from rmsd_v2.RMSDV2 import RMSDV2\n",
    "from nanome.api import structure\n",
    "from nanome.util import Color\n",
    "instance = RMSDV2()\n",
    "\n",
    "comp = fixed_comp\n",
    "ligand_name = 'L9J'\n",
    "\n",
    "\n",
    "def extract_binding_site(comp, binding_site_atoms):\n",
    "    # Copy comp, and remove all atoms that are not part of the binding site\n",
    "    new_comp = copy.deepcopy(comp)\n",
    "    new_comp.name = f'{comp.name} binding site'\n",
    "    new_comp.index = -1\n",
    "    new_comp.set_surface_needs_redraw()\n",
    "    \n",
    "    binding_site_indices = [a.index for a in binding_site_atoms]\n",
    "    print(len(binding_site_indices))\n",
    "    for mol in new_comp.molecules:\n",
    "        mol.index = -1\n",
    "        for chain in mol.chains:\n",
    "            if sum(1 for a in chain.atoms if a.index in binding_site_indices) == 0:\n",
    "                mol.remove_chain(chain)\n",
    "                continue\n",
    "            chain.index = -1\n",
    "            for residue in chain.residues:\n",
    "                if sum(1 for a in residue.atoms if a.index in binding_site_indices) == 0:\n",
    "                    chain.remove_residue(residue)\n",
    "                    continue\n",
    "                residue.index = -1\n",
    "                for atom in residue.atoms:\n",
    "                    atom.index = -1\n",
    "                    if atom.index not in binding_site_indices:\n",
    "                        atom.residue.remove_atom(atom)\n",
    "                    else:\n",
    "                        atom.index = -1\n",
    "    return new_comp\n",
    "\n",
    "def get_binding_site_atoms(comp, ligand_name):\n",
    "    residue = next(res for res in comp.residues if res.name == ligand_name)\n",
    "    binding_site_atoms = instance.calculate_binding_site_atoms(comp, residue.atoms)\n",
    "    return binding_site_atoms\n",
    "\n",
    "def highlight_atoms(atom_list, on_or_off: bool):\n",
    "    for atom in atom_list:\n",
    "        atom.selected = on_or_off\n",
    "    plugin_instance.update_structures_deep([comp])\n",
    "\n",
    "fixed_binding_site_atoms = get_binding_site_atoms(fixed_comp, ligand_name)\n",
    "print(f'{len(fixed_binding_site_atoms)} Atoms in binding_site')\n",
    "fixed_binding_site = extract_binding_site(fixed_comp, fixed_binding_site_atoms)\n",
    "\n",
    "print(f'{len(list(fixed_binding_site.atoms))} Atoms in extracted binding_site')\n",
    "print(f'{len([a for a in fixed_binding_site.atoms if a.selected])} selected Atoms in extracted binding_site')\n",
    "highlight_atoms(fixed_binding_site_atoms, True)\n",
    "plugin_instance.update_structures_deep([fixed_binding_site])\n",
    "\n",
    "fixed_binding_site.io.to_pdb(path='/tmp/L9J_binding_site.pdb')\n",
    "# highlight_atoms(fixed_binding_site_atoms, True)\n",
    "\n"
   ]
  },
  {
   "cell_type": "code",
   "execution_count": 72,
   "metadata": {},
   "outputs": [],
   "source": [
    "# Run FPocket, and highlight the moving structure potential pockets\n",
    "\n",
    "import tempfile\n",
    "import time\n",
    "\n",
    "comp = moving_comp\n",
    "ligand_name = 'L9P'\n",
    "    \n",
    "def cycle_pockets(comp):\n",
    "    fpocket_client = FPocketClient()\n",
    "    logger.info(f\"Showing pockets for {comp.name}\")\n",
    "    pocket_atoms = fpocket_client.get_pockets_atoms(comp)\n",
    "    for pocket in pocket_sets:\n",
    "        print(f\"Highlighting pocket {current_index}\")\n",
    "        highlight_atoms(comp, pocket)\n",
    "\n",
    "    # Deselect all atoms\n",
    "    for atom in comp.atoms:\n",
    "        atom.selected = False\n",
    "    plugin_instance.update_structures_deep([comp])\n",
    "\n",
    "\n",
    "# Run Fpocket to get potential pockets on moving complex, and find best match to fixed complex using SiteMotif\n",
    "output_dir = '/tmp'\n",
    "fpocket_results = fpocket_client.run(moving_comp, output_dir)\n",
    "pocket_folder = os.path.join(fpocket_results, 'pockets')\n",
    "moving_pocket_pdbs = sorted([f'{pocket_folder}/{fi}' for fi in os.listdir(pocket_folder) if fi.endswith('.pdb')])\n",
    "# binding_site_atoms = plugin_instance.get_binding_site_atoms(comp, ligand_name)\n",
    "# cycle_pockets(comp)\n"
   ]
  },
  {
   "cell_type": "code",
   "execution_count": 73,
   "metadata": {},
   "outputs": [
    {
     "name": "stdout",
     "output_type": "stream",
     "text": [
      "34\n",
      "Sending add_to_workspace Request to Redis Channel 78bdbce1-5f84-44ec-ae08-79f2768351b5\n",
      "Response received on channel 117d5744-fdaa-4e9d-a623-f67f22bf3601\n"
     ]
    },
    {
     "data": {
      "text/plain": [
       "[<nanome.api.structure.complex.Complex at 0x7f257ea28f10>]"
      ]
     },
     "execution_count": 73,
     "metadata": {},
     "output_type": "execute_result"
    }
   ],
   "source": [
    "list_of_pocket_serials = []\n",
    "for pocket_file in moving_pocket_pdbs:\n",
    "    pocket_serials = []\n",
    "    with open(pocket_file) as fd:\n",
    "        for line in fd:\n",
    "            if not line.startswith(\"ATOM\"):\n",
    "                continue\n",
    "            # Collect serials for pocket atoms\n",
    "            row = line.split()\n",
    "            pocket_atom_serial = int(row[1])\n",
    "            pocket_serials.append(pocket_atom_serial)\n",
    "    list_of_pocket_serials.append(pocket_serials)\n",
    "    \n",
    "# Extract pocket site 1\n",
    "pocket_site_atoms = [a for a in moving_comp.atoms if a.serial in list_of_pocket_serials[0]]\n",
    "moving_binding_site = extract_binding_site(moving_comp, pocket_site_atoms)\n",
    "plugin_instance.add_to_workspace([moving_binding_site])\n"
   ]
  },
  {
   "cell_type": "code",
   "execution_count": null,
   "metadata": {},
   "outputs": [],
   "source": [
    "import subprocess\n",
    "\n",
    "multi_exe_path = '/app/cookbook/site_motif/MulitpleSiteAlignment/pocket_matrix_mpi7.py'\n",
    "exe_path = '/app/cookbook/site_motif/PairWiseComparison/pocket_matrix7.py'\n",
    "\n",
    "fixed_binding_site = '/app/cookbook/notebooks/L9P_binding_site.pdb'\n",
    "moving_binding_site = '/app/cookbook/notebooks/pocket1_atm.pdb'\n",
    "\n",
    "cmd = f'conda run -n py27 python {exe_path} {moving_binding_site} {fixed_binding_site}' \n",
    "subprocess.run(cmd.split())\n"
   ]
  },
  {
   "cell_type": "code",
   "execution_count": null,
   "metadata": {},
   "outputs": [],
   "source": [
    "cmd.split()"
   ]
  },
  {
   "cell_type": "code",
   "execution_count": null,
   "metadata": {},
   "outputs": [],
   "source": [
    "\n"
   ]
  },
  {
   "cell_type": "code",
   "execution_count": null,
   "metadata": {},
   "outputs": [],
   "source": []
  }
 ],
 "metadata": {
  "kernelspec": {
   "display_name": "Python 3 (ipykernel)",
   "language": "python",
   "name": "python3"
  },
  "language_info": {
   "codemirror_mode": {
    "name": "ipython",
    "version": 3
   },
   "file_extension": ".py",
   "mimetype": "text/x-python",
   "name": "python",
   "nbconvert_exporter": "python",
   "pygments_lexer": "ipython3",
   "version": "3.9.7"
  }
 },
 "nbformat": 4,
 "nbformat_minor": 4
}
