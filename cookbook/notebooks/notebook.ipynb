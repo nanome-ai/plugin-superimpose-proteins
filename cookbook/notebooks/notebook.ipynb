{
 "cells": [
  {
   "cell_type": "code",
   "execution_count": 1,
   "metadata": {},
   "outputs": [],
   "source": [
    "from cookbook.interface import PluginInstanceRedisInterface\n",
    "import os\n",
    "import sys\n",
    "\n",
    "import logging\n",
    "\n",
    "logging.basicConfig()\n",
    "logger = logging.getLogger(__name__)\n",
    "\n",
    "# Set up redis credentials\n",
    "redis_host = 'redis'\n",
    "redis_port = 6379\n",
    "redis_password = ''\n",
    "redis_channel = os.environ.get(\"REDIS_CHANNEL\")\n",
    "\n",
    "# Increase the recursion limit in order to properly serialize Complexes\n",
    "recursion_limit = 100000\n",
    "sys.setrecursionlimit(recursion_limit)\n",
    "\n",
    "plugin_instance = PluginInstanceRedisInterface(redis_host, redis_port, redis_password, redis_channel)\n"
   ]
  },
  {
   "cell_type": "code",
   "execution_count": 2,
   "metadata": {
    "tags": []
   },
   "outputs": [
    {
     "name": "stdout",
     "output_type": "stream",
     "text": [
      "Sending update_structures_deep Request to Redis Channel 78bdbce1-5f84-44ec-ae08-79f2768351b5\n",
      "Response received on channel 8c157b91-e2ce-4b13-ba34-aab9226398d5\n",
      "-1\n"
     ]
    },
    {
     "ename": "AssertionError",
     "evalue": "",
     "output_type": "error",
     "traceback": [
      "\u001b[0;31m---------------------------------------------------------------------------\u001b[0m",
      "\u001b[0;31mAssertionError\u001b[0m                            Traceback (most recent call last)",
      "Input \u001b[0;32mIn [2]\u001b[0m, in \u001b[0;36m<cell line: 15>\u001b[0;34m()\u001b[0m\n\u001b[1;32m     13\u001b[0m plugin_instance\u001b[38;5;241m.\u001b[39mupdate_structures_deep([comp_1, comp_2])\n\u001b[1;32m     14\u001b[0m \u001b[38;5;28mprint\u001b[39m(comp_1\u001b[38;5;241m.\u001b[39mindex)\n\u001b[0;32m---> 15\u001b[0m \u001b[38;5;28;01massert\u001b[39;00m comp_1\u001b[38;5;241m.\u001b[39mindex \u001b[38;5;241m!=\u001b[39m \u001b[38;5;241m-\u001b[39m\u001b[38;5;241m1\u001b[39m\n",
      "\u001b[0;31mAssertionError\u001b[0m: "
     ]
    }
   ],
   "source": [
    "from nanome.api.structure import Complex\n",
    "from nanome.util import Color\n",
    "# Load Test Molecules\n",
    "examples_folder = os.path.join(os.getcwd(), 'examples')\n",
    "pdb_6nzt = os.path.join(examples_folder, '6nzt.pdb')\n",
    "pdb_6nzv = os.path.join(examples_folder, '6nzv.pdb')\n",
    "\n",
    "comp_1 = Complex.io.from_pdb(path=pdb_6nzt)\n",
    "comp_1.name = \"6NZT\"\n",
    "# import ipdb; ipdb.set_trace()\n",
    "comp_2 = Complex.io.from_pdb(path=pdb_6nzv)\n",
    "comp_2.name = \"6NZV\"\n",
    "plugin_instance.update_structures_deep([comp_1, comp_2])\n",
    "print(comp_1.index)\n",
    "assert comp_1.index != -1"
   ]
  },
  {
   "cell_type": "code",
   "execution_count": 2,
   "metadata": {},
   "outputs": [
    {
     "name": "stdout",
     "output_type": "stream",
     "text": [
      "Sending request_workspace Request to Redis Channel 78bdbce1-5f84-44ec-ae08-79f2768351b5\n",
      "Response received on channel aa2611d9-ca56-4fce-b2fc-5a2ed663d077\n"
     ]
    }
   ],
   "source": [
    "ws = plugin_instance.request_workspace()\n",
    "comp_list = ws.complexes"
   ]
  },
  {
   "cell_type": "code",
   "execution_count": 4,
   "metadata": {},
   "outputs": [
    {
     "name": "stdout",
     "output_type": "stream",
     "text": [
      "1613\n",
      "Lets get some pockets yo\n",
      "Highlighting pocket 0\n",
      "Sending update_structures_deep Request to Redis Channel 78bdbce1-5f84-44ec-ae08-79f2768351b5\n",
      "Response received on channel 1c743ee5-e965-4777-9f10-509a2c6a7495\n",
      "Highlighting pocket 1\n",
      "Sending update_structures_deep Request to Redis Channel 78bdbce1-5f84-44ec-ae08-79f2768351b5\n",
      "Response received on channel 073d7ff7-b2f2-4a29-9d13-aec99c46d51d\n",
      "Highlighting pocket 2\n",
      "Sending update_structures_deep Request to Redis Channel 78bdbce1-5f84-44ec-ae08-79f2768351b5\n",
      "Response received on channel 3fe98125-c92e-46a7-a096-8baa1798b2b4\n",
      "Highlighting pocket 3\n",
      "Sending update_structures_deep Request to Redis Channel 78bdbce1-5f84-44ec-ae08-79f2768351b5\n",
      "Response received on channel 6253b625-3cf4-4465-8880-cda9fc8843ee\n",
      "Highlighting pocket 4\n",
      "Sending update_structures_deep Request to Redis Channel 78bdbce1-5f84-44ec-ae08-79f2768351b5\n",
      "Response received on channel 352cc8d4-942a-4fdb-9144-5700288e90a2\n",
      "Highlighting pocket 0\n",
      "Sending update_structures_deep Request to Redis Channel 78bdbce1-5f84-44ec-ae08-79f2768351b5\n",
      "Response received on channel f5a6b368-4bb0-4d73-a61f-4796cff2bf31\n",
      "Highlighting pocket 1\n",
      "Sending update_structures_deep Request to Redis Channel 78bdbce1-5f84-44ec-ae08-79f2768351b5\n",
      "Response received on channel 14d0041c-7074-4b68-9ef6-0d8174a8f5ba\n",
      "Highlighting pocket 2\n",
      "Sending update_structures_deep Request to Redis Channel 78bdbce1-5f84-44ec-ae08-79f2768351b5\n",
      "Response received on channel 3aee87b8-e516-4d32-b4a8-da7b0d02a94b\n",
      "Highlighting pocket 3\n",
      "Sending update_structures_deep Request to Redis Channel 78bdbce1-5f84-44ec-ae08-79f2768351b5\n",
      "Response received on channel 19c05f3a-ed3c-4baf-9f3e-d28d42430e71\n",
      "Highlighting pocket 4\n",
      "Sending update_structures_deep Request to Redis Channel 78bdbce1-5f84-44ec-ae08-79f2768351b5\n",
      "Response received on channel 31edab9b-3f28-417f-9740-a34985f87d89\n",
      "Highlighting pocket 0\n",
      "Sending update_structures_deep Request to Redis Channel 78bdbce1-5f84-44ec-ae08-79f2768351b5\n",
      "Response received on channel cd64e5ca-70b8-4fcb-9b9f-0a1e803f1492\n",
      "Highlighting pocket 1\n",
      "Sending update_structures_deep Request to Redis Channel 78bdbce1-5f84-44ec-ae08-79f2768351b5\n",
      "Response received on channel 1b504c1f-ac5a-4e1f-89cb-414f777546f9\n",
      "Highlighting pocket 2\n",
      "Sending update_structures_deep Request to Redis Channel 78bdbce1-5f84-44ec-ae08-79f2768351b5\n",
      "Response received on channel 510e7fae-fcbc-4897-8f8c-bafc25bef901\n",
      "Sending update_structures_deep Request to Redis Channel 78bdbce1-5f84-44ec-ae08-79f2768351b5\n",
      "Response received on channel 17c13a7f-feb0-48b0-9919-be2a103e607f\n"
     ]
    },
    {
     "data": {
      "text/plain": [
       "()"
      ]
     },
     "execution_count": 4,
     "metadata": {},
     "output_type": "execute_result"
    }
   ],
   "source": [
    "# Run FPocket, and highlight \n",
    "from rmsd_v2.fpocket_client import FPocketClient\n",
    "import time\n",
    "\n",
    "comp = next(iter(cmp for cmp in comp_list if cmp.name == '6NZT'))\n",
    "print(len(list(comp.atoms)))\n",
    "fpocket_client = FPocketClient()\n",
    "logger.info(f\"Showing pockets for {comp.name}\")\n",
    "pocket_sets = fpocket_client.get_pockets(comp)\n",
    "\n",
    "start_time = time.time()\n",
    "current_index = 0\n",
    "\n",
    "while time.time() - start_time < 30:\n",
    "    print(f\"Highlighting pocket {current_index}\")\n",
    "    for atom in comp.atoms:\n",
    "        atom.selected = atom in pocket_sets[current_index]\n",
    "    plugin_instance.update_structures_deep([comp])\n",
    "    current_index = (current_index + 1) % len(pocket_sets)\n",
    "# Deselect all atoms\n",
    "for atom in comp.atoms:\n",
    "    atom.selected = False\n",
    "plugin_instance.update_structures_deep([comp])"
   ]
  },
  {
   "cell_type": "code",
   "execution_count": null,
   "metadata": {},
   "outputs": [],
   "source": []
  }
 ],
 "metadata": {
  "kernelspec": {
   "display_name": "Python 3 (ipykernel)",
   "language": "python",
   "name": "python3"
  },
  "language_info": {
   "codemirror_mode": {
    "name": "ipython",
    "version": 3
   },
   "file_extension": ".py",
   "mimetype": "text/x-python",
   "name": "python",
   "nbconvert_exporter": "python",
   "pygments_lexer": "ipython3",
   "version": "3.10.4"
  }
 },
 "nbformat": 4,
 "nbformat_minor": 4
}
