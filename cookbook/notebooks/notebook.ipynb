{
 "cells": [
  {
   "cell_type": "code",
   "execution_count": 6,
   "metadata": {},
   "outputs": [],
   "source": [
    "from cookbook.interface import PluginInstanceRedisInterface\n",
    "import os\n",
    "import sys\n",
    "\n",
    "import logging\n",
    "\n",
    "logging.basicConfig()\n",
    "logger = logging.getLogger(__name__)\n",
    "\n",
    "# Set up redis credentials\n",
    "redis_host = 'redis'\n",
    "redis_port = 6379\n",
    "redis_password = ''\n",
    "redis_channel = os.environ.get(\"REDIS_CHANNEL\")\n",
    "\n",
    "# Increase the recursion limit in order to properly serialize Complexes\n",
    "recursion_limit = 100000\n",
    "sys.setrecursionlimit(recursion_limit)\n",
    "\n",
    "plugin_instance = PluginInstanceRedisInterface(redis_host, redis_port, redis_password, redis_channel)\n"
   ]
  },
  {
   "cell_type": "code",
   "execution_count": 2,
   "metadata": {
    "tags": []
   },
   "outputs": [
    {
     "name": "stdout",
     "output_type": "stream",
     "text": [
      "Sending update_structures_deep Request to Redis Channel 78bdbce1-5f84-44ec-ae08-79f2768351b5\n",
      "Response received on channel 8c157b91-e2ce-4b13-ba34-aab9226398d5\n",
      "-1\n"
     ]
    },
    {
     "ename": "AssertionError",
     "evalue": "",
     "output_type": "error",
     "traceback": [
      "\u001b[0;31m---------------------------------------------------------------------------\u001b[0m",
      "\u001b[0;31mAssertionError\u001b[0m                            Traceback (most recent call last)",
      "Input \u001b[0;32mIn [2]\u001b[0m, in \u001b[0;36m<cell line: 15>\u001b[0;34m()\u001b[0m\n\u001b[1;32m     13\u001b[0m plugin_instance\u001b[38;5;241m.\u001b[39mupdate_structures_deep([comp_1, comp_2])\n\u001b[1;32m     14\u001b[0m \u001b[38;5;28mprint\u001b[39m(comp_1\u001b[38;5;241m.\u001b[39mindex)\n\u001b[0;32m---> 15\u001b[0m \u001b[38;5;28;01massert\u001b[39;00m comp_1\u001b[38;5;241m.\u001b[39mindex \u001b[38;5;241m!=\u001b[39m \u001b[38;5;241m-\u001b[39m\u001b[38;5;241m1\u001b[39m\n",
      "\u001b[0;31mAssertionError\u001b[0m: "
     ]
    }
   ],
   "source": [
    "from nanome.api.structure import Complex\n",
    "from nanome.util import Color\n",
    "# Load Test Molecules\n",
    "examples_folder = os.path.join(os.getcwd(), 'examples')\n",
    "pdb_6nzt = os.path.join(examples_folder, '6nzt.pdb')\n",
    "pdb_6nzv = os.path.join(examples_folder, '6nzv.pdb')\n",
    "\n",
    "comp_1 = Complex.io.from_pdb(path=pdb_6nzt)\n",
    "comp_1.name = \"6NZT\"\n",
    "# import ipdb; ipdb.set_trace()\n",
    "comp_2 = Complex.io.from_pdb(path=pdb_6nzv)\n",
    "comp_2.name = \"6NZV\"\n",
    "plugin_instance.update_structures_deep([comp_1, comp_2])\n",
    "print(comp_1.index)\n",
    "assert comp_1.index != -1"
   ]
  },
  {
   "cell_type": "code",
   "execution_count": 7,
   "metadata": {},
   "outputs": [
    {
     "name": "stdout",
     "output_type": "stream",
     "text": [
      "Sending request_workspace Request to Redis Channel 78bdbce1-5f84-44ec-ae08-79f2768351b5\n",
      "Response received on channel 359a6a2d-f28f-4536-949d-9e7d3c0673e8\n"
     ]
    }
   ],
   "source": [
    "ws = plugin_instance.request_workspace()\n",
    "comp_list = ws.complexes"
   ]
  },
  {
   "cell_type": "code",
   "execution_count": null,
   "metadata": {},
   "outputs": [
    {
     "name": "stdout",
     "output_type": "stream",
     "text": [
      "1613\n",
      "Highlighting pocket 0\n",
      "Sending update_structures_deep Request to Redis Channel 78bdbce1-5f84-44ec-ae08-79f2768351b5\n",
      "Response received on channel 1e43a7e3-73ab-4ffc-972d-1cdfb0127362\n",
      "Highlighting pocket 1\n",
      "Sending update_structures_deep Request to Redis Channel 78bdbce1-5f84-44ec-ae08-79f2768351b5\n",
      "Response received on channel a57edecc-5f49-42f1-87df-81e47a2ba5a4\n",
      "Highlighting pocket 2\n",
      "Sending update_structures_deep Request to Redis Channel 78bdbce1-5f84-44ec-ae08-79f2768351b5\n",
      "Response received on channel a01c6619-758a-4b8f-a9a1-0fdcb147d8a9\n",
      "Highlighting pocket 3\n",
      "Sending update_structures_deep Request to Redis Channel 78bdbce1-5f84-44ec-ae08-79f2768351b5\n",
      "Response received on channel 4317dad7-158e-4f81-a0ce-476bf74f37f7\n",
      "Highlighting pocket 4\n",
      "Sending update_structures_deep Request to Redis Channel 78bdbce1-5f84-44ec-ae08-79f2768351b5\n",
      "Response received on channel e1a182e6-38e5-4216-8f26-15579cfdee6d\n",
      "Highlighting pocket 0\n",
      "Sending update_structures_deep Request to Redis Channel 78bdbce1-5f84-44ec-ae08-79f2768351b5\n",
      "Response received on channel e3b36304-eb53-43be-a6b1-0220ce70a2f1\n",
      "Highlighting pocket 1\n",
      "Sending update_structures_deep Request to Redis Channel 78bdbce1-5f84-44ec-ae08-79f2768351b5\n",
      "Response received on channel 072271df-0470-49b5-ad92-d44ba4c9ad54\n",
      "Highlighting pocket 2\n",
      "Sending update_structures_deep Request to Redis Channel 78bdbce1-5f84-44ec-ae08-79f2768351b5\n",
      "Response received on channel 3fe496d9-74bb-4d89-aea2-fa2f777e3df0\n",
      "Highlighting pocket 3\n",
      "Sending update_structures_deep Request to Redis Channel 78bdbce1-5f84-44ec-ae08-79f2768351b5\n",
      "Response received on channel 2d5e840f-4edc-4da5-9f25-c7ec4943ac88\n",
      "Highlighting pocket 4\n",
      "Sending update_structures_deep Request to Redis Channel 78bdbce1-5f84-44ec-ae08-79f2768351b5\n",
      "Response received on channel b7b6a5c0-1506-4da6-bf93-71648582a297\n",
      "Highlighting pocket 0\n",
      "Sending update_structures_deep Request to Redis Channel 78bdbce1-5f84-44ec-ae08-79f2768351b5\n",
      "Response received on channel 5dc44dd1-3b37-4007-a971-bd485cf9743c\n",
      "Highlighting pocket 1\n",
      "Sending update_structures_deep Request to Redis Channel 78bdbce1-5f84-44ec-ae08-79f2768351b5\n",
      "Response received on channel 85256648-2bc4-4a2b-a1aa-5e4638dc4805\n",
      "Highlighting pocket 2\n",
      "Sending update_structures_deep Request to Redis Channel 78bdbce1-5f84-44ec-ae08-79f2768351b5\n",
      "Response received on channel 34d9ee84-0879-4621-8fa8-6ca963620abd\n",
      "Highlighting pocket 3\n",
      "Sending update_structures_deep Request to Redis Channel 78bdbce1-5f84-44ec-ae08-79f2768351b5\n",
      "Response received on channel 1330ef83-6ef9-4c6d-ab94-41b92fa6daf1\n",
      "Highlighting pocket 4\n",
      "Sending update_structures_deep Request to Redis Channel 78bdbce1-5f84-44ec-ae08-79f2768351b5\n",
      "Response received on channel b03d73a2-8d28-4e65-9cb4-c8a26d974876\n",
      "Highlighting pocket 0\n",
      "Sending update_structures_deep Request to Redis Channel 78bdbce1-5f84-44ec-ae08-79f2768351b5\n",
      "Response received on channel f4e1ce73-e9a7-447e-a0b0-c83bab0bcb07\n",
      "Highlighting pocket 1\n",
      "Sending update_structures_deep Request to Redis Channel 78bdbce1-5f84-44ec-ae08-79f2768351b5\n",
      "Response received on channel 328fa1a6-7cf0-4ff0-bb79-289d4bb427c8\n",
      "Highlighting pocket 2\n",
      "Sending update_structures_deep Request to Redis Channel 78bdbce1-5f84-44ec-ae08-79f2768351b5\n",
      "Response received on channel 65910014-1810-4e55-bec6-570c4023c10c\n",
      "Highlighting pocket 3\n",
      "Sending update_structures_deep Request to Redis Channel 78bdbce1-5f84-44ec-ae08-79f2768351b5\n",
      "Response received on channel e5246ba0-2237-436b-b52a-59c188810672\n",
      "Highlighting pocket 4\n",
      "Sending update_structures_deep Request to Redis Channel 78bdbce1-5f84-44ec-ae08-79f2768351b5\n",
      "Response received on channel bade35b5-c82b-4f13-9b9a-2a4056b4a3f2\n",
      "Highlighting pocket 0\n",
      "Sending update_structures_deep Request to Redis Channel 78bdbce1-5f84-44ec-ae08-79f2768351b5\n",
      "Response received on channel 21da8f71-f7e6-48e5-9e67-e2045e509c60\n",
      "Highlighting pocket 1\n",
      "Sending update_structures_deep Request to Redis Channel 78bdbce1-5f84-44ec-ae08-79f2768351b5\n"
     ]
    }
   ],
   "source": [
    "# Run FPocket, and highlight \n",
    "from rmsd_v2.fpocket_client import FPocketClient\n",
    "import time\n",
    "\n",
    "comp = next(iter(cmp for cmp in comp_list if cmp.name == '6NZT'))\n",
    "print(len(list(comp.atoms)))\n",
    "fpocket_client = FPocketClient()\n",
    "logger.info(f\"Showing pockets for {comp.name}\")\n",
    "pocket_sets = fpocket_client.get_pockets(comp)\n",
    "\n",
    "start_time = time.time()\n",
    "current_index = 0\n",
    "\n",
    "while time.time() - start_time < 30:\n",
    "    print(f\"Highlighting pocket {current_index}\")\n",
    "    for atom in comp.atoms:\n",
    "        atom.selected = atom in pocket_sets[current_index]\n",
    "    plugin_instance.update_structures_deep([comp])\n",
    "    current_index = (current_index + 1) % len(pocket_sets)\n",
    "# Deselect all atoms\n",
    "for atom in comp.atoms:\n",
    "    atom.selected = False\n",
    "plugin_instance.update_structures_deep([comp])"
   ]
  },
  {
   "cell_type": "code",
   "execution_count": null,
   "metadata": {},
   "outputs": [],
   "source": []
  }
 ],
 "metadata": {
  "kernelspec": {
   "display_name": "Python 3 (ipykernel)",
   "language": "python",
   "name": "python3"
  },
  "language_info": {
   "codemirror_mode": {
    "name": "ipython",
    "version": 3
   },
   "file_extension": ".py",
   "mimetype": "text/x-python",
   "name": "python",
   "nbconvert_exporter": "python",
   "pygments_lexer": "ipython3",
   "version": "3.10.4"
  }
 },
 "nbformat": 4,
 "nbformat_minor": 4
}
