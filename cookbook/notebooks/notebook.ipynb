{
 "cells": [
  {
   "cell_type": "code",
   "execution_count": 1,
   "metadata": {},
   "outputs": [],
   "source": [
    "import logging\n",
    "import os\n",
    "import sys\n",
    "\n",
    "from cookbook.interface import PluginInstanceRedisInterface\n",
    "from plugin.fpocket_client import FPocketClient\n",
    "\n",
    "\n",
    "logging.basicConfig()\n",
    "logger = logging.getLogger(__name__)\n",
    "\n",
    "# Set up redis credentials\n",
    "redis_host = 'redis'\n",
    "redis_port = 6379\n",
    "redis_password = ''\n",
    "redis_channel = os.environ.get(\"REDIS_CHANNEL\")\n",
    "\n",
    "# Increase the recursion limit in order to properly serialize Complexes\n",
    "recursion_limit = 100000\n",
    "sys.setrecursionlimit(recursion_limit)\n",
    "\n",
    "plugin_instance = PluginInstanceRedisInterface(redis_host, redis_port, redis_password, redis_channel)\n",
    "fpocket_client = FPocketClient()"
   ]
  },
  {
   "cell_type": "code",
   "execution_count": 5,
   "metadata": {
    "tags": []
   },
   "outputs": [
    {
     "name": "stdout",
     "output_type": "stream",
     "text": [
      "Sending update_structures_deep Request to Redis Channel 78bdbce1-5f84-44ec-ae08-79f2768351b5\n",
      "Response received on channel 0c52adfb-38a0-405d-bc4f-5d370f2f8d38\n"
     ]
    },
    {
     "data": {
      "text/plain": [
       "()"
      ]
     },
     "execution_count": 5,
     "metadata": {},
     "output_type": "execute_result"
    }
   ],
   "source": [
    "# Load in example structures\n",
    "\n",
    "from nanome.api.structure import Complex\n",
    "from nanome.util import Color\n",
    "# Load Test Molecules\n",
    "examples_folder = os.path.join(os.getcwd(), 'examples')\n",
    "pdb_6nzt = os.path.join(examples_folder, '6nzt.pdb')\n",
    "pdb_6nzv = os.path.join(examples_folder, '6nzv.pdb')\n",
    "\n",
    "comp_1 = Complex.io.from_pdb(path=pdb_6nzt)\n",
    "comp_1.name = \"6NZT\"\n",
    "comp_2 = Complex.io.from_pdb(path=pdb_6nzv)\n",
    "comp_2.name = \"6NZV\"\n",
    "comp_list = [comp_1, comp_2]\n",
    "moving_comp = next(comp for comp in comp_list if comp.name == '6NZT')\n",
    "fixed_comp = next(comp for comp in comp_list if comp.name == '6NZV')\n",
    "\n",
    "plugin_instance.update_structures_deep(comp_list)\n"
   ]
  },
  {
   "cell_type": "code",
   "execution_count": 11,
   "metadata": {},
   "outputs": [
    {
     "name": "stdout",
     "output_type": "stream",
     "text": [
      "Sending request_workspace Request to Redis Channel 78bdbce1-5f84-44ec-ae08-79f2768351b5\n",
      "Response received on channel 20a94c69-aa64-46ad-b436-85f810eaaed7\n"
     ]
    }
   ],
   "source": [
    "ws = plugin_instance.request_workspace()\n",
    "comp_list = ws.complexes\n",
    "\n",
    "moving_comp = next(comp for comp in comp_list if comp.name == '6NZT')\n",
    "fixed_comp = next(comp for comp in comp_list if comp.name == '6NZV')"
   ]
  },
  {
   "cell_type": "code",
   "execution_count": 6,
   "metadata": {
    "scrolled": true
   },
   "outputs": [
    {
     "name": "stdout",
     "output_type": "stream",
     "text": [
      "Sending update_structures_deep Request to Redis Channel 78bdbce1-5f84-44ec-ae08-79f2768351b5\n",
      "Response received on channel fd08f819-5aa3-4db7-ac66-02f8b1f190cf\n",
      "new comp atom count: 1576\n",
      "84 selected Atoms in extracted binding_site\n"
     ]
    }
   ],
   "source": [
    "# Extract the binding pocket surrounding the ligand.\n",
    "import copy\n",
    "from plugin.Superimpose import SuperimposePlugin\n",
    "from nanome.util import Color\n",
    "instance = SuperimposePlugin()\n",
    "\n",
    "comp = fixed_comp\n",
    "ligand_name = 'L9J'\n",
    "\n",
    "\n",
    "def get_binding_site_atoms(comp, ligand_name):\n",
    "    residue = next(res for res in comp.residues if res.name == ligand_name)\n",
    "    binding_site_atoms = instance.calculate_binding_site_atoms(comp, residue.atoms)\n",
    "    return binding_site_atoms\n",
    "\n",
    "\n",
    "def highlight_atoms(atom_list, on_or_off: bool):\n",
    "    for atom in atom_list:\n",
    "        atom.selected = on_or_off\n",
    "    plugin_instance.update_structures_deep([comp])\n",
    "\n",
    "\n",
    "def extract_binding_site(comp, binding_site_atoms):\n",
    "    # Copy comp, and remove all residues that are not part of the binding site\n",
    "    new_comp = copy.deepcopy(comp)\n",
    "    new_comp.name = f'{comp.name} binding site'\n",
    "    new_comp.index = -1\n",
    "    new_comp.set_surface_needs_redraw()\n",
    "\n",
    "    binding_site_residues = []\n",
    "    binding_site_atom_indices = [a.index for a in binding_site_atoms]\n",
    "    comp_residues = list(new_comp.residues)\n",
    "    for i in range(len(comp_residues) - 1, -1, -1):\n",
    "        res = comp_residues[i]\n",
    "        binding_atoms_in_res = [a for a in res.atoms if a.index in binding_site_atom_indices]\n",
    "        if not binding_atoms_in_res:\n",
    "            res.chain.remove_residue(res)\n",
    "        else:\n",
    "            for atom in binding_atoms_in_res:\n",
    "                atom.index = -1        \n",
    "    print(f\"new comp atom count: {len(list(new_comp.atoms))}\")\n",
    "    return new_comp\n",
    "\n",
    "fixed_binding_site_atoms = get_binding_site_atoms(fixed_comp, ligand_name)\n",
    "highlight_atoms(fixed_binding_site_atoms, True)\n",
    "fixed_binding_site = extract_binding_site(fixed_comp, fixed_binding_site_atoms)\n",
    "print(f'{len([a for a in fixed_binding_site.atoms if a.selected])} selected Atoms in extracted binding_site')\n",
    "fixed_binding_site.io.to_pdb(path='fixed_binding_site.pdb')\n",
    "\n"
   ]
  },
  {
   "cell_type": "code",
   "execution_count": 14,
   "metadata": {},
   "outputs": [
    {
     "name": "stdout",
     "output_type": "stream",
     "text": [
      "Sending update_structures_deep Request to Redis Channel 78bdbce1-5f84-44ec-ae08-79f2768351b5\n",
      "Response received on channel 0103647a-f4b6-439a-ae32-7ddf1e901cb9\n",
      "Sending update_structures_deep Request to Redis Channel 78bdbce1-5f84-44ec-ae08-79f2768351b5\n",
      "Response received on channel ec00bfc6-52e4-47c0-a0e1-f87be0fecbdd\n",
      "Sending update_structures_deep Request to Redis Channel 78bdbce1-5f84-44ec-ae08-79f2768351b5\n",
      "Response received on channel 73569891-87e0-4694-ba84-8b66a76b7503\n",
      "Sending update_structures_deep Request to Redis Channel 78bdbce1-5f84-44ec-ae08-79f2768351b5\n",
      "Response received on channel 89c0c574-fe15-4a12-a4bf-8a0659d0f325\n",
      "Sending update_structures_deep Request to Redis Channel 78bdbce1-5f84-44ec-ae08-79f2768351b5\n",
      "Response received on channel 40450886-c871-41a8-85c1-3836907d04c1\n",
      "Sending update_structures_deep Request to Redis Channel 78bdbce1-5f84-44ec-ae08-79f2768351b5\n",
      "Response received on channel 7cee5b86-9b91-4a99-af77-997e0e142aa9\n"
     ]
    }
   ],
   "source": [
    "# Run FPocket, and highlight the moving structure potential pockets\n",
    "\n",
    "import tempfile\n",
    "import time\n",
    "\n",
    "def cycle_pockets(comp, fpocket_results):\n",
    "    pocket_sets = fpocket_client.parse_results(comp, fpocket_results)\n",
    "    for pocket in pocket_sets:\n",
    "        for atom in comp.atoms:\n",
    "            atom.selected = atom in pocket\n",
    "        plugin_instance.update_structures_deep([comp])\n",
    "\n",
    "    # Deselect all atoms\n",
    "    for atom in comp.atoms:\n",
    "        atom.selected = False\n",
    "    plugin_instance.update_structures_deep([comp])\n",
    "\n",
    "# Run Fpocket to get potential pockets on moving complex, and find best match to fixed complex using SiteMotif\n",
    "output_dir = '.'\n",
    "fpocket_results = fpocket_client.run(moving_comp, output_dir)\n",
    "pocket_folder = os.path.join(fpocket_results, 'pockets')\n",
    "moving_pocket_pdbs = sorted([f'{pocket_folder}/{fi}' for fi in os.listdir(pocket_folder) if fi.endswith('.pdb')])\n",
    "cycle_pockets(moving_comp, fpocket_results)\n"
   ]
  },
  {
   "cell_type": "code",
   "execution_count": 15,
   "metadata": {},
   "outputs": [
    {
     "name": "stdout",
     "output_type": "stream",
     "text": [
      "new comp atom count: 115\n",
      "115 Atoms in binding site complex\n",
      "new comp atom count: 83\n",
      "83 Atoms in binding site complex\n",
      "new comp atom count: 91\n",
      "91 Atoms in binding site complex\n",
      "new comp atom count: 73\n",
      "73 Atoms in binding site complex\n",
      "new comp atom count: 69\n",
      "69 Atoms in binding site complex\n",
      "new comp atom count: 50\n",
      "50 Atoms in binding site complex\n"
     ]
    }
   ],
   "source": [
    "list_of_pocket_serials = []\n",
    "for pocket_file in moving_pocket_pdbs:\n",
    "    pocket_serials = []\n",
    "    with open(pocket_file) as fd:\n",
    "        for line in fd:\n",
    "            if not line.startswith(\"ATOM\"):\n",
    "                continue\n",
    "            # Collect serials for pocket atoms\n",
    "            row = line.split()\n",
    "            pocket_atom_serial = int(row[1])\n",
    "            pocket_serials.append(pocket_atom_serial)\n",
    "    list_of_pocket_serials.append(pocket_serials)\n",
    "    \n",
    "# Extract all binding sites\n",
    "for i, pocket_serial in enumerate(list_of_pocket_serials):\n",
    "    pocket_site_atoms = [a for a in moving_comp.atoms if a.serial in pocket_serial]\n",
    "    moving_binding_site = extract_binding_site(moving_comp, pocket_site_atoms)\n",
    "    print(f\"{len(list(moving_binding_site.atoms))} Atoms in binding site complex\")\n",
    "    moving_binding_site.io.to_pdb(path=f'moving_binding{i+1}.pdb')\n",
    "    # plugin_instance.add_to_workspace([moving_binding_site])\n"
   ]
  },
  {
   "cell_type": "code",
   "execution_count": null,
   "metadata": {},
   "outputs": [],
   "source": []
  }
 ],
 "metadata": {
  "kernelspec": {
   "display_name": "Python 3 (ipykernel)",
   "language": "python",
   "name": "python3"
  },
  "language_info": {
   "codemirror_mode": {
    "name": "ipython",
    "version": 3
   },
   "file_extension": ".py",
   "mimetype": "text/x-python",
   "name": "python",
   "nbconvert_exporter": "python",
   "pygments_lexer": "ipython3",
   "version": "3.9.7"
  }
 },
 "nbformat": 4,
 "nbformat_minor": 4
}
