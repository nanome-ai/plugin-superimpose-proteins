{
 "cells": [
  {
   "cell_type": "code",
   "execution_count": 3,
   "metadata": {},
   "outputs": [],
   "source": [
    "from cookbook.interface import PluginInstanceRedisInterface\n",
    "import os\n",
    "import sys\n",
    "\n",
    "import logging\n",
    "\n",
    "logging.basicConfig()\n",
    "logger = logging.getLogger(__name__)\n",
    "\n",
    "# Set up redis credentials\n",
    "redis_host = 'redis'\n",
    "redis_port = 6379\n",
    "redis_password = ''\n",
    "redis_channel = os.environ.get(\"REDIS_CHANNEL\")\n",
    "\n",
    "# Increase the recursion limit in order to properly serialize Complexes\n",
    "recursion_limit = 100000\n",
    "sys.setrecursionlimit(recursion_limit)\n",
    "\n",
    "plugin_instance = PluginInstanceRedisInterface(redis_host, redis_port, redis_password, redis_channel)\n"
   ]
  },
  {
   "cell_type": "code",
   "execution_count": null,
   "metadata": {
    "tags": []
   },
   "outputs": [],
   "source": [
    "# Load in example structures\n",
    "\n",
    "from nanome.api.structure import Complex\n",
    "from nanome.util import Color\n",
    "# Load Test Molecules\n",
    "examples_folder = os.path.join(os.getcwd(), 'examples')\n",
    "pdb_6nzt = os.path.join(examples_folder, '6nzt.pdb')\n",
    "pdb_6nzv = os.path.join(examples_folder, '6nzv.pdb')\n",
    "\n",
    "comp_1 = Complex.io.from_pdb(path=pdb_6nzt)\n",
    "comp_1.name = \"6NZT\"\n",
    "comp_2 = Complex.io.from_pdb(path=pdb_6nzv)\n",
    "comp_2.name = \"6NZV\"\n",
    "comp_list = [comp_1, comp_2]\n",
    "# plugin_instance.update_structures_deep(comp_list)\n"
   ]
  },
  {
   "cell_type": "code",
   "execution_count": 4,
   "metadata": {},
   "outputs": [
    {
     "name": "stdout",
     "output_type": "stream",
     "text": [
      "Sending request_workspace Request to Redis Channel 78bdbce1-5f84-44ec-ae08-79f2768351b5\n",
      "Response received on channel a68bb66b-b23e-4616-b465-157d66398b0a\n"
     ]
    }
   ],
   "source": [
    "ws = plugin_instance.request_workspace()\n",
    "comp_list = ws.complexes\n",
    "\n",
    "moving_comp = comp_list[0]\n",
    "fixed_comp = comp_list[1]"
   ]
  },
  {
   "cell_type": "code",
   "execution_count": 21,
   "metadata": {},
   "outputs": [
    {
     "name": "stdout",
     "output_type": "stream",
     "text": [
      "Highlighting pocket 0\n",
      "Sending update_structures_deep Request to Redis Channel 78bdbce1-5f84-44ec-ae08-79f2768351b5\n",
      "Response received on channel a4760da8-1688-4253-a0fe-799de5203419\n",
      "Highlighting pocket 1\n",
      "Sending update_structures_deep Request to Redis Channel 78bdbce1-5f84-44ec-ae08-79f2768351b5\n",
      "Response received on channel 2d648ecc-2bdf-457f-8cd6-9441e269ad2f\n",
      "Highlighting pocket 2\n",
      "Sending update_structures_deep Request to Redis Channel 78bdbce1-5f84-44ec-ae08-79f2768351b5\n",
      "Response received on channel 868ab5dd-9f8a-4cdf-b6db-5595192fa722\n",
      "Highlighting pocket 3\n",
      "Sending update_structures_deep Request to Redis Channel 78bdbce1-5f84-44ec-ae08-79f2768351b5\n",
      "Response received on channel 1daad01e-3454-4f0f-b2ac-7fa21b7989ab\n",
      "Highlighting pocket 4\n",
      "Sending update_structures_deep Request to Redis Channel 78bdbce1-5f84-44ec-ae08-79f2768351b5\n",
      "Response received on channel 218af9cb-9b0c-4741-a51c-8276b1109a33\n",
      "Sending update_structures_deep Request to Redis Channel 78bdbce1-5f84-44ec-ae08-79f2768351b5\n",
      "Response received on channel 3db948f7-8b16-4736-b468-54e76534d980\n"
     ]
    }
   ],
   "source": [
    "# Run FPocket, and highlight the moving structure potential pockets\n",
    "\n",
    "from rmsd_v2.fpocket_client import FPocketClient\n",
    "import time\n",
    "\n",
    "comp = moving_comp\n",
    "\n",
    "\n",
    "def highlight_atom_list(comp, atom_list):\n",
    "    for atom in comp.atoms:\n",
    "            atom.selected = atom in atom_list\n",
    "    plugin_instance.update_structures_deep([comp])\n",
    "\n",
    "    \n",
    "def cycle_pockets(comp):\n",
    "    fpocket_client = FPocketClient()\n",
    "    logger.info(f\"Showing pockets for {comp.name}\")\n",
    "    pocket_sets = fpocket_client.get_pockets(comp)\n",
    "    current_index = 0\n",
    "\n",
    "    for pocket in pocket_sets:\n",
    "        print(f\"Highlighting pocket {current_index}\")\n",
    "        highlight_atom_list(comp, pocket)\n",
    "        current_index = (current_index + 1) % len(pocket_sets)\n",
    "\n",
    "    # Deselect all atoms\n",
    "    for atom in comp.atoms:\n",
    "        atom.selected = False\n",
    "    plugin_instance.update_structures_deep([comp])\n",
    "\n",
    "\n",
    "cycle_pockets(comp)\n"
   ]
  },
  {
   "cell_type": "code",
   "execution_count": 22,
   "metadata": {},
   "outputs": [
    {
     "name": "stdout",
     "output_type": "stream",
     "text": [
      "Sending update_structures_deep Request to Redis Channel 78bdbce1-5f84-44ec-ae08-79f2768351b5\n",
      "Response received on channel 00504fa6-a616-4343-8663-5ae49e2fe985\n",
      "Sending update_structures_deep Request to Redis Channel 78bdbce1-5f84-44ec-ae08-79f2768351b5\n",
      "Response received on channel a7498666-a30f-4d9b-a959-5023985b51ba\n"
     ]
    }
   ],
   "source": [
    "# Highlight the fixed binding pocket according to the ligand.\n",
    "from rmsd_v2.RMSDV2 import RMSDV2\n",
    "instance = RMSDV2()\n",
    "\n",
    "comp = fixed_comp\n",
    "ligand_name = 'L9P'\n",
    "\n",
    "def highlight_binding_site(comp, ligand_name: str, on_or_off):\n",
    "    residue = next(res for res in comp.residues if res.name == ligand_name)\n",
    "    binding_site_atoms = instance.calculate_binding_site_atoms(comp, residue.atoms)\n",
    "    for atom in binding_site_atoms:\n",
    "        atom.selected = on_or_off\n",
    "    plugin_instance.update_structures_deep([comp])\n",
    "\n",
    "highlight_binding_site(comp, ligand_name, True)\n",
    "highlight_binding_site(comp, ligand_name, False)\n"
   ]
  },
  {
   "cell_type": "code",
   "execution_count": null,
   "metadata": {},
   "outputs": [],
   "source": []
  }
 ],
 "metadata": {
  "kernelspec": {
   "display_name": "Python 3 (ipykernel)",
   "language": "python",
   "name": "python3"
  },
  "language_info": {
   "codemirror_mode": {
    "name": "ipython",
    "version": 3
   },
   "file_extension": ".py",
   "mimetype": "text/x-python",
   "name": "python",
   "nbconvert_exporter": "python",
   "pygments_lexer": "ipython3",
   "version": "3.10.4"
  }
 },
 "nbformat": 4,
 "nbformat_minor": 4
}
